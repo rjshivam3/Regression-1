{
 "cells": [
  {
   "cell_type": "markdown",
   "id": "389201fd-0343-4950-b13e-995db9674cef",
   "metadata": {},
   "source": [
    "## Q1. Explain the difference between simple linear regression and multiple linear regression. Provide an example of each.\n"
   ]
  },
  {
   "cell_type": "code",
   "execution_count": 1,
   "id": "88e974d3-4708-45af-8b77-e21bcc14f6af",
   "metadata": {},
   "outputs": [
    {
     "data": {
      "image/png": "[encoded data removed]",
      "text/plain": [
       "<Figure size 640x480 with 1 Axes>"
      ]
     },
     "metadata": {},
     "output_type": "display_data"
    }
   ],
   "source": [
    "import numpy as np\n",
    "import matplotlib.pyplot as plt\n",
    "from sklearn.linear_model import LinearRegression\n",
    "\n",
    "X = np.array([1, 2, 3, 4, 5]).reshape(-1, 1)\n",
    "y = np.array([2, 4, 5, 4, 5])\n",
    "\n",
    "model = LinearRegression()\n",
    "model.fit(X, y)\n",
    "y_pred = model.predict(X)\n",
    "\n",
    "plt.scatter(X, y, color='blue')\n",
    "plt.plot(X, y_pred, color='red')\n",
    "plt.title('Simple Linear Regression')\n",
    "plt.xlabel('Hours of Study')\n",
    "plt.ylabel('Test Score')\n",
    "plt.show()\n"
   ]
  },
  {
   "cell_type": "code",
   "execution_count": 2,
   "id": "76bc6bb3-cd59-4552-9703-031c358dd44d",
   "metadata": {},
   "outputs": [
    {
     "data": {
      "text/html": [
       "<div>\n",
       "<style scoped>\n",
       "    .dataframe tbody tr th:only-of-type {\n",
       "        vertical-align: middle;\n",
       "    }\n",
       "\n",
       "    .dataframe tbody tr th {\n",
       "        vertical-align: top;\n",
       "    }\n",
       "\n",
       "    .dataframe thead th {\n",
       "        text-align: right;\n",
       "    }\n",
       "</style>\n",
       "<table border=\"1\" class=\"dataframe\">\n",
       "  <thead>\n",
       "    <tr style=\"text-align: right;\">\n",
       "      <th></th>\n",
       "      <th>Hours of Study</th>\n",
       "      <th>Hours of Sleep</th>\n",
       "      <th>Test Score</th>\n",
       "      <th>Predicted Score</th>\n",
       "    </tr>\n",
       "  </thead>\n",
       "  <tbody>\n",
       "    <tr>\n",
       "      <th>0</th>\n",
       "      <td>1</td>\n",
       "      <td>5</td>\n",
       "      <td>2</td>\n",
       "      <td>2.673684</td>\n",
       "    </tr>\n",
       "    <tr>\n",
       "      <th>1</th>\n",
       "      <td>2</td>\n",
       "      <td>6</td>\n",
       "      <td>4</td>\n",
       "      <td>3.084211</td>\n",
       "    </tr>\n",
       "    <tr>\n",
       "      <th>2</th>\n",
       "      <td>3</td>\n",
       "      <td>5</td>\n",
       "      <td>5</td>\n",
       "      <td>4.757895</td>\n",
       "    </tr>\n",
       "    <tr>\n",
       "      <th>3</th>\n",
       "      <td>4</td>\n",
       "      <td>7</td>\n",
       "      <td>4</td>\n",
       "      <td>4.536842</td>\n",
       "    </tr>\n",
       "    <tr>\n",
       "      <th>4</th>\n",
       "      <td>5</td>\n",
       "      <td>8</td>\n",
       "      <td>5</td>\n",
       "      <td>4.947368</td>\n",
       "    </tr>\n",
       "  </tbody>\n",
       "</table>\n",
       "</div>"
      ],
      "text/plain": [
       "   Hours of Study  Hours of Sleep  Test Score  Predicted Score\n",
       "0               1               5           2         2.673684\n",
       "1               2               6           4         3.084211\n",
       "2               3               5           5         4.757895\n",
       "3               4               7           4         4.536842\n",
       "4               5               8           5         4.947368"
      ]
     },
     "execution_count": 2,
     "metadata": {},
     "output_type": "execute_result"
    }
   ],
   "source": [
    "import pandas as pd\n",
    "\n",
    "data = {'Hours of Study': [1, 2, 3, 4, 5],\n",
    "        'Hours of Sleep': [5, 6, 5, 7, 8],\n",
    "        'Test Score': [2, 4, 5, 4, 5]}\n",
    "df = pd.DataFrame(data)\n",
    "X = df[['Hours of Study', 'Hours of Sleep']]\n",
    "y = df['Test Score']\n",
    "\n",
    "model = LinearRegression()\n",
    "model.fit(X, y)\n",
    "y_pred = model.predict(X)\n",
    "\n",
    "df['Predicted Score'] = y_pred\n",
    "df\n"
   ]
  },
  {
   "cell_type": "markdown",
   "id": "dc07a559-35f1-4d66-b16d-0047baa69a5e",
   "metadata": {},
   "source": [
    "## Q2. Discuss the assumptions of linear regression. How can you check whether these assumptions hold in a given dataset?\n"
   ]
  },
  {
   "cell_type": "markdown",
   "id": "d7c48245-6ed4-4124-86fd-3e9e2fc73b1e",
   "metadata": {},
   "source": [
    "The assumptions of linear regression are:\n",
    "1. Linearity: The relationship between the independent and dependent variables is linear.\n",
    "2. Independence: The residuals are independent.\n",
    "3. Homoscedasticity: The residuals have constant variance.\n",
    "4. Normality: The residuals of the model are normally distributed.\n",
    "\n",
    "To check these assumptions:\n",
    "1. Linearity: Use scatter plots of the independent variable versus the dependent variable.\n",
    "2. Independence: Check the Durbin-Watson statistic.\n",
    "3. Homoscedasticity: Plot residuals versus predicted values.\n",
    "4. Normality: Use Q-Q plots and histograms of the residuals.\n"
   ]
  },
  {
   "cell_type": "markdown",
   "id": "e56f6db6-0098-407a-bf53-94f7ad061619",
   "metadata": {},
   "source": [
    "## Q3. How do you interpret the slope and intercept in a linear regression model? Provide an example using a real-world scenario.\n"
   ]
  },
  {
   "cell_type": "code",
   "execution_count": 3,
   "id": "c2388668-ed28-4f2d-a483-3056e6d5496e",
   "metadata": {},
   "outputs": [
    {
     "name": "stdout",
     "output_type": "stream",
     "text": [
      "Slope: 5000.0\n",
      "Intercept: 25000.0\n"
     ]
    }
   ],
   "source": [
    "experience = np.array([1, 2, 3, 4, 5]).reshape(-1, 1)\n",
    "salary = np.array([30000, 35000, 40000, 45000, 50000])\n",
    "\n",
    "model = LinearRegression()\n",
    "model.fit(experience, salary)\n",
    "slope = model.coef_[0]\n",
    "intercept = model.intercept_\n",
    "\n",
    "print(f\"Slope: {slope}\")\n",
    "print(f\"Intercept: {intercept}\")\n"
   ]
  },
  {
   "cell_type": "markdown",
   "id": "d84d148e-a84e-454c-9a72-10f8c56affcc",
   "metadata": {},
   "source": [
    "## Q4. Explain the concept of gradient descent. How is it used in machine learning?\n"
   ]
  },
  {
   "cell_type": "markdown",
   "id": "2f8e8d02-8392-4f58-bed6-125ff3a6e093",
   "metadata": {},
   "source": [
    "Gradient descent is an optimization algorithm used to minimize the cost function in machine learning models. It iteratively adjusts the model parameters by computing the gradient of the cost function and moving in the direction of the steepest descent. This process continues until the algorithm converges to the minimum cost.\n",
    "\n",
    "In machine learning, gradient descent is used to optimize parameters in various models, such as linear regression, logistic regression, and neural networks.\n"
   ]
  },
  {
   "cell_type": "markdown",
   "id": "860b3bea-e23d-46b4-bf33-28c7cabe2da0",
   "metadata": {},
   "source": [
    "## Q5. Describe the multiple linear regression model. How does it differ from simple linear regression?\n"
   ]
  },
  {
   "cell_type": "markdown",
   "id": "404bca2e-bbda-48af-b243-47add5e34108",
   "metadata": {},
   "source": [
    "Multiple linear regression models the relationship between two or more independent variables and a dependent variable by fitting a linear equation. It differs from simple linear regression, which involves only one independent variable.\n",
    "\n",
    "In multiple linear regression, the equation takes the form:\n",
    "\n"
   ]
  },
  {
   "cell_type": "markdown",
   "id": "d22f23b5-4c45-43b8-922d-f370f52caba4",
   "metadata": {},
   "source": [
    "## Q6. Explain the concept of multicollinearity in multiple linear regression. How can you detect and address this issue?\n"
   ]
  },
  {
   "cell_type": "markdown",
   "id": "44e1bed5-d877-4874-b900-cc113a30d646",
   "metadata": {},
   "source": [
    "Multicollinearity occurs when two or more independent variables in a multiple linear regression model are highly correlated, leading to unreliable coefficient estimates.\n",
    "\n",
    "To detect multicollinearity, you can:\n",
    "1. Check the correlation matrix of the independent variables.\n",
    "2. Calculate the Variance Inflation Factor (VIF) for each independent variable.\n",
    "\n",
    "To address multicollinearity, you can:\n",
    "1. Remove highly correlated predictors.\n",
    "2. Use dimensionality reduction techniques like Principal Component Analysis (PCA).\n",
    "3. Regularize the model using techniques like Ridge or Lasso regression.\n"
   ]
  },
  {
   "cell_type": "markdown",
   "id": "2b76b7ca-f264-4216-a08c-80f1d0c2155b",
   "metadata": {},
   "source": [
    "## Q7. Describe the polynomial regression model. How is it different from linear regression?\n"
   ]
  },
  {
   "cell_type": "markdown",
   "id": "6bdc032e-65b7-421d-915d-dc55167e3a6c",
   "metadata": {},
   "source": [
    "Polynomial regression models the relationship between the independent variable and the dependent variable as an nth degree polynomial. Unlike linear regression, which assumes a linear relationship, polynomial regression can capture non-linear relationships.\n",
    "\n",
    "The equation for polynomial regression is:\n",
    "\n",
    "\\[ y = \\beta_0 + \\beta_1 x + \\beta_2 x^2 + \\cdots + \\beta_n x^n \\]\n",
    "\n",
    "where \\( y \\) is the dependent variable, \\( x \\) is the independent variable, and \\( \\beta_0, \\beta_1, \\beta_2, \\ldots, \\beta_n \\) are the coefficients.\n"
   ]
  },
  {
   "cell_type": "markdown",
   "id": "f81e2be2-1652-49e8-9478-6c820fd39b54",
   "metadata": {},
   "source": [
    "## Q8. What are the advantages and disadvantages of polynomial regression compared to linear regression? In what situations would you prefer to use polynomial regression?\n"
   ]
  },
  {
   "cell_type": "markdown",
   "id": "67c0ece9-3a14-47bc-b405-3433cdebe52b",
   "metadata": {},
   "source": [
    "Advantages of polynomial regression:\n",
    "1. Can model non-linear relationships.\n",
    "2. More flexible than linear regression.\n",
    "\n",
    "Disadvantages of polynomial regression:\n",
    "1. Prone to overfitting, especially with high-degree polynomials.\n",
    "2. Can become complex and computationally expensive with higher degrees.\n",
    "\n",
    "Polynomial regression is preferred when the relationship between the independent and dependent variables is non-linear and cannot be adequately captured by linear regression.\n"
   ]
  },
  {
   "cell_type": "code",
   "execution_count": null,
   "id": "386771ab-71e7-4bdd-84ab-dc1103ca94b5",
   "metadata": {},
   "outputs": [],
   "source": []
  }
 ],
 "metadata": {
  "kernelspec": {
   "display_name": "Python 3 (ipykernel)",
   "language": "python",
   "name": "python3"
  },
  "language_info": {
   "codemirror_mode": {
    "name": "ipython",
    "version": 3
   },
   "file_extension": ".py",
   "mimetype": "text/x-python",
   "name": "python",
   "nbconvert_exporter": "python",
   "pygments_lexer": "ipython3",
   "version": "3.10.8"
  }
 },
 "nbformat": 4,
 "nbformat_minor": 5
}
